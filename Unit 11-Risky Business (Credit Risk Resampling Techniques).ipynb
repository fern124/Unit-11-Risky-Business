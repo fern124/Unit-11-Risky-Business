{
 "cells": [
  {
   "cell_type": "code",
   "execution_count": 1,
   "id": "983dcb8a-0dc2-4d42-848e-e8bd35d1cd46",
   "metadata": {},
   "outputs": [],
   "source": [
    "#Credit Risk Resampling Techniques"
   ]
  },
  {
   "cell_type": "code",
   "execution_count": 2,
   "id": "de09fdc0-0ae9-4cab-928d-45bbdca7b804",
   "metadata": {},
   "outputs": [],
   "source": [
    "import warnings\n",
    "warnings.filterwarnings('ignore')"
   ]
  },
  {
   "cell_type": "code",
   "execution_count": 3,
   "id": "27057d3e-b7bd-4c66-a4ee-9fdb7d332320",
   "metadata": {},
   "outputs": [],
   "source": [
    "import numpy as np\n",
    "import pandas as pd\n",
    "from pathlib import Path\n",
    "from collections import Counter"
   ]
  },
  {
   "cell_type": "code",
   "execution_count": 10,
   "id": "9da0de20-fb20-4329-a7b2-8a1a30bd3c15",
   "metadata": {},
   "outputs": [
    {
     "data": {
      "text/html": [
       "<div>\n",
       "<style scoped>\n",
       "    .dataframe tbody tr th:only-of-type {\n",
       "        vertical-align: middle;\n",
       "    }\n",
       "\n",
       "    .dataframe tbody tr th {\n",
       "        vertical-align: top;\n",
       "    }\n",
       "\n",
       "    .dataframe thead th {\n",
       "        text-align: right;\n",
       "    }\n",
       "</style>\n",
       "<table border=\"1\" class=\"dataframe\">\n",
       "  <thead>\n",
       "    <tr style=\"text-align: right;\">\n",
       "      <th></th>\n",
       "      <th>loan_size</th>\n",
       "      <th>interest_rate</th>\n",
       "      <th>homeowner</th>\n",
       "      <th>borrower_income</th>\n",
       "      <th>debt_to_income</th>\n",
       "      <th>num_of_accounts</th>\n",
       "      <th>derogatory_marks</th>\n",
       "      <th>total_debt</th>\n",
       "      <th>loan_status</th>\n",
       "    </tr>\n",
       "  </thead>\n",
       "  <tbody>\n",
       "    <tr>\n",
       "      <th>0</th>\n",
       "      <td>10700.0</td>\n",
       "      <td>7.672</td>\n",
       "      <td>own</td>\n",
       "      <td>52800</td>\n",
       "      <td>0.431818</td>\n",
       "      <td>5</td>\n",
       "      <td>1</td>\n",
       "      <td>22800</td>\n",
       "      <td>low_risk</td>\n",
       "    </tr>\n",
       "    <tr>\n",
       "      <th>1</th>\n",
       "      <td>8400.0</td>\n",
       "      <td>6.692</td>\n",
       "      <td>own</td>\n",
       "      <td>43600</td>\n",
       "      <td>0.311927</td>\n",
       "      <td>3</td>\n",
       "      <td>0</td>\n",
       "      <td>13600</td>\n",
       "      <td>low_risk</td>\n",
       "    </tr>\n",
       "    <tr>\n",
       "      <th>2</th>\n",
       "      <td>9000.0</td>\n",
       "      <td>6.963</td>\n",
       "      <td>rent</td>\n",
       "      <td>46100</td>\n",
       "      <td>0.349241</td>\n",
       "      <td>3</td>\n",
       "      <td>0</td>\n",
       "      <td>16100</td>\n",
       "      <td>low_risk</td>\n",
       "    </tr>\n",
       "    <tr>\n",
       "      <th>3</th>\n",
       "      <td>10700.0</td>\n",
       "      <td>7.664</td>\n",
       "      <td>own</td>\n",
       "      <td>52700</td>\n",
       "      <td>0.430740</td>\n",
       "      <td>5</td>\n",
       "      <td>1</td>\n",
       "      <td>22700</td>\n",
       "      <td>low_risk</td>\n",
       "    </tr>\n",
       "    <tr>\n",
       "      <th>4</th>\n",
       "      <td>10800.0</td>\n",
       "      <td>7.698</td>\n",
       "      <td>mortgage</td>\n",
       "      <td>53000</td>\n",
       "      <td>0.433962</td>\n",
       "      <td>5</td>\n",
       "      <td>1</td>\n",
       "      <td>23000</td>\n",
       "      <td>low_risk</td>\n",
       "    </tr>\n",
       "    <tr>\n",
       "      <th>...</th>\n",
       "      <td>...</td>\n",
       "      <td>...</td>\n",
       "      <td>...</td>\n",
       "      <td>...</td>\n",
       "      <td>...</td>\n",
       "      <td>...</td>\n",
       "      <td>...</td>\n",
       "      <td>...</td>\n",
       "      <td>...</td>\n",
       "    </tr>\n",
       "    <tr>\n",
       "      <th>77531</th>\n",
       "      <td>19100.0</td>\n",
       "      <td>11.261</td>\n",
       "      <td>own</td>\n",
       "      <td>86600</td>\n",
       "      <td>0.653580</td>\n",
       "      <td>12</td>\n",
       "      <td>2</td>\n",
       "      <td>56600</td>\n",
       "      <td>high_risk</td>\n",
       "    </tr>\n",
       "    <tr>\n",
       "      <th>77532</th>\n",
       "      <td>17700.0</td>\n",
       "      <td>10.662</td>\n",
       "      <td>mortgage</td>\n",
       "      <td>80900</td>\n",
       "      <td>0.629172</td>\n",
       "      <td>11</td>\n",
       "      <td>2</td>\n",
       "      <td>50900</td>\n",
       "      <td>high_risk</td>\n",
       "    </tr>\n",
       "    <tr>\n",
       "      <th>77533</th>\n",
       "      <td>17600.0</td>\n",
       "      <td>10.595</td>\n",
       "      <td>rent</td>\n",
       "      <td>80300</td>\n",
       "      <td>0.626401</td>\n",
       "      <td>11</td>\n",
       "      <td>2</td>\n",
       "      <td>50300</td>\n",
       "      <td>high_risk</td>\n",
       "    </tr>\n",
       "    <tr>\n",
       "      <th>77534</th>\n",
       "      <td>16300.0</td>\n",
       "      <td>10.068</td>\n",
       "      <td>mortgage</td>\n",
       "      <td>75300</td>\n",
       "      <td>0.601594</td>\n",
       "      <td>10</td>\n",
       "      <td>2</td>\n",
       "      <td>45300</td>\n",
       "      <td>high_risk</td>\n",
       "    </tr>\n",
       "    <tr>\n",
       "      <th>77535</th>\n",
       "      <td>15600.0</td>\n",
       "      <td>9.742</td>\n",
       "      <td>mortgage</td>\n",
       "      <td>72300</td>\n",
       "      <td>0.585062</td>\n",
       "      <td>9</td>\n",
       "      <td>2</td>\n",
       "      <td>42300</td>\n",
       "      <td>high_risk</td>\n",
       "    </tr>\n",
       "  </tbody>\n",
       "</table>\n",
       "<p>77536 rows × 9 columns</p>\n",
       "</div>"
      ],
      "text/plain": [
       "       loan_size  interest_rate homeowner  borrower_income  debt_to_income  \\\n",
       "0        10700.0          7.672       own            52800        0.431818   \n",
       "1         8400.0          6.692       own            43600        0.311927   \n",
       "2         9000.0          6.963      rent            46100        0.349241   \n",
       "3        10700.0          7.664       own            52700        0.430740   \n",
       "4        10800.0          7.698  mortgage            53000        0.433962   \n",
       "...          ...            ...       ...              ...             ...   \n",
       "77531    19100.0         11.261       own            86600        0.653580   \n",
       "77532    17700.0         10.662  mortgage            80900        0.629172   \n",
       "77533    17600.0         10.595      rent            80300        0.626401   \n",
       "77534    16300.0         10.068  mortgage            75300        0.601594   \n",
       "77535    15600.0          9.742  mortgage            72300        0.585062   \n",
       "\n",
       "       num_of_accounts  derogatory_marks  total_debt loan_status  \n",
       "0                    5                 1       22800    low_risk  \n",
       "1                    3                 0       13600    low_risk  \n",
       "2                    3                 0       16100    low_risk  \n",
       "3                    5                 1       22700    low_risk  \n",
       "4                    5                 1       23000    low_risk  \n",
       "...                ...               ...         ...         ...  \n",
       "77531               12                 2       56600   high_risk  \n",
       "77532               11                 2       50900   high_risk  \n",
       "77533               11                 2       50300   high_risk  \n",
       "77534               10                 2       45300   high_risk  \n",
       "77535                9                 2       42300   high_risk  \n",
       "\n",
       "[77536 rows x 9 columns]"
      ]
     },
     "execution_count": 10,
     "metadata": {},
     "output_type": "execute_result"
    }
   ],
   "source": [
    "# Load the data\n",
    "file_path = Path('../Classification/lending_data.csv')\n",
    "df = pd.read_csv(file_path)\n",
    "df"
   ]
  },
  {
   "cell_type": "code",
   "execution_count": 12,
   "id": "91683d69-bdc7-4766-8f54-125e846c40e4",
   "metadata": {},
   "outputs": [],
   "source": [
    "#Split the Data into Training and Testing"
   ]
  },
  {
   "cell_type": "code",
   "execution_count": 13,
   "id": "63709f68-d49d-4b8e-96ee-29d272f1c153",
   "metadata": {},
   "outputs": [],
   "source": [
    "# Create our features\n",
    "X = df.drop(columns = 'loan_status')\n",
    "\n",
    "# Create our target\n",
    "y = df['loan_status']"
   ]
  },
  {
   "cell_type": "code",
   "execution_count": 14,
   "id": "d0b827b2-a29e-4a05-9a8c-c0f1a8545051",
   "metadata": {},
   "outputs": [
    {
     "data": {
      "text/html": [
       "<div>\n",
       "<style scoped>\n",
       "    .dataframe tbody tr th:only-of-type {\n",
       "        vertical-align: middle;\n",
       "    }\n",
       "\n",
       "    .dataframe tbody tr th {\n",
       "        vertical-align: top;\n",
       "    }\n",
       "\n",
       "    .dataframe thead th {\n",
       "        text-align: right;\n",
       "    }\n",
       "</style>\n",
       "<table border=\"1\" class=\"dataframe\">\n",
       "  <thead>\n",
       "    <tr style=\"text-align: right;\">\n",
       "      <th></th>\n",
       "      <th>loan_size</th>\n",
       "      <th>interest_rate</th>\n",
       "      <th>borrower_income</th>\n",
       "      <th>debt_to_income</th>\n",
       "      <th>num_of_accounts</th>\n",
       "      <th>derogatory_marks</th>\n",
       "      <th>total_debt</th>\n",
       "    </tr>\n",
       "  </thead>\n",
       "  <tbody>\n",
       "    <tr>\n",
       "      <th>count</th>\n",
       "      <td>77536.000000</td>\n",
       "      <td>77536.000000</td>\n",
       "      <td>77536.000000</td>\n",
       "      <td>77536.000000</td>\n",
       "      <td>77536.000000</td>\n",
       "      <td>77536.000000</td>\n",
       "      <td>77536.000000</td>\n",
       "    </tr>\n",
       "    <tr>\n",
       "      <th>mean</th>\n",
       "      <td>9805.562577</td>\n",
       "      <td>7.292333</td>\n",
       "      <td>49221.949804</td>\n",
       "      <td>0.377318</td>\n",
       "      <td>3.826610</td>\n",
       "      <td>0.392308</td>\n",
       "      <td>19221.949804</td>\n",
       "    </tr>\n",
       "    <tr>\n",
       "      <th>std</th>\n",
       "      <td>2093.223153</td>\n",
       "      <td>0.889495</td>\n",
       "      <td>8371.635077</td>\n",
       "      <td>0.081519</td>\n",
       "      <td>1.904426</td>\n",
       "      <td>0.582086</td>\n",
       "      <td>8371.635077</td>\n",
       "    </tr>\n",
       "    <tr>\n",
       "      <th>min</th>\n",
       "      <td>5000.000000</td>\n",
       "      <td>5.250000</td>\n",
       "      <td>30000.000000</td>\n",
       "      <td>0.000000</td>\n",
       "      <td>0.000000</td>\n",
       "      <td>0.000000</td>\n",
       "      <td>0.000000</td>\n",
       "    </tr>\n",
       "    <tr>\n",
       "      <th>25%</th>\n",
       "      <td>8700.000000</td>\n",
       "      <td>6.825000</td>\n",
       "      <td>44800.000000</td>\n",
       "      <td>0.330357</td>\n",
       "      <td>3.000000</td>\n",
       "      <td>0.000000</td>\n",
       "      <td>14800.000000</td>\n",
       "    </tr>\n",
       "    <tr>\n",
       "      <th>50%</th>\n",
       "      <td>9500.000000</td>\n",
       "      <td>7.172000</td>\n",
       "      <td>48100.000000</td>\n",
       "      <td>0.376299</td>\n",
       "      <td>4.000000</td>\n",
       "      <td>0.000000</td>\n",
       "      <td>18100.000000</td>\n",
       "    </tr>\n",
       "    <tr>\n",
       "      <th>75%</th>\n",
       "      <td>10400.000000</td>\n",
       "      <td>7.528000</td>\n",
       "      <td>51400.000000</td>\n",
       "      <td>0.416342</td>\n",
       "      <td>4.000000</td>\n",
       "      <td>1.000000</td>\n",
       "      <td>21400.000000</td>\n",
       "    </tr>\n",
       "    <tr>\n",
       "      <th>max</th>\n",
       "      <td>23800.000000</td>\n",
       "      <td>13.235000</td>\n",
       "      <td>105200.000000</td>\n",
       "      <td>0.714829</td>\n",
       "      <td>16.000000</td>\n",
       "      <td>3.000000</td>\n",
       "      <td>75200.000000</td>\n",
       "    </tr>\n",
       "  </tbody>\n",
       "</table>\n",
       "</div>"
      ],
      "text/plain": [
       "          loan_size  interest_rate  borrower_income  debt_to_income  \\\n",
       "count  77536.000000   77536.000000     77536.000000    77536.000000   \n",
       "mean    9805.562577       7.292333     49221.949804        0.377318   \n",
       "std     2093.223153       0.889495      8371.635077        0.081519   \n",
       "min     5000.000000       5.250000     30000.000000        0.000000   \n",
       "25%     8700.000000       6.825000     44800.000000        0.330357   \n",
       "50%     9500.000000       7.172000     48100.000000        0.376299   \n",
       "75%    10400.000000       7.528000     51400.000000        0.416342   \n",
       "max    23800.000000      13.235000    105200.000000        0.714829   \n",
       "\n",
       "       num_of_accounts  derogatory_marks    total_debt  \n",
       "count     77536.000000      77536.000000  77536.000000  \n",
       "mean          3.826610          0.392308  19221.949804  \n",
       "std           1.904426          0.582086   8371.635077  \n",
       "min           0.000000          0.000000      0.000000  \n",
       "25%           3.000000          0.000000  14800.000000  \n",
       "50%           4.000000          0.000000  18100.000000  \n",
       "75%           4.000000          1.000000  21400.000000  \n",
       "max          16.000000          3.000000  75200.000000  "
      ]
     },
     "execution_count": 14,
     "metadata": {},
     "output_type": "execute_result"
    }
   ],
   "source": [
    "X.describe() "
   ]
  },
  {
   "cell_type": "code",
   "execution_count": 17,
   "id": "bae4a08e-c74d-4533-b7c7-11f00f60ebec",
   "metadata": {},
   "outputs": [
    {
     "data": {
      "text/plain": [
       "low_risk     75036\n",
       "high_risk     2500\n",
       "Name: loan_status, dtype: int64"
      ]
     },
     "execution_count": 17,
     "metadata": {},
     "output_type": "execute_result"
    }
   ],
   "source": [
    "# Check the balance of our target values\n",
    "y.value_counts()"
   ]
  },
  {
   "cell_type": "code",
   "execution_count": 43,
   "id": "e042becd-dafe-41d9-870f-7ae0798411fd",
   "metadata": {},
   "outputs": [],
   "source": [
    "# Create X_train, X_test, y_train, y_test\n",
    "from sklearn.model_selection import train_test_split\n",
    "X_train, X_test, y_train, y_test = train_test_split(X, y, random_state=78, stratify= y)"
   ]
  },
  {
   "cell_type": "code",
   "execution_count": 44,
   "id": "05113b26-a6d4-4769-9aa4-87f2a161a91d",
   "metadata": {},
   "outputs": [],
   "source": [
    "#Data Pre-Processing\n",
    "# Create the StandardScaler instance\n",
    "from sklearn.preprocessing import StandardScaler\n",
    "scaler = StandardScaler()\n"
   ]
  },
  {
   "cell_type": "code",
   "execution_count": 60,
   "id": "2d5aeea0-88c7-4106-a605-d114a4ad07ba",
   "metadata": {},
   "outputs": [],
   "source": [
    "# Fit the Standard Scaler with the training data\n",
    "# When fitting scaling functions, only train on the training dataset\n",
    "X_scaler = scaler.fit(X_train)"
   ]
  },
  {
   "cell_type": "code",
   "execution_count": 61,
   "id": "4f43400b-75e4-4f23-b3dd-d5b77624d138",
   "metadata": {},
   "outputs": [],
   "source": [
    "# Scale the training and testing data\n",
    "X_train_scaled = X_scaler.transform(X_train)\n",
    "X_test_scaled = X_scaler.transform(X_test)"
   ]
  },
  {
   "cell_type": "code",
   "execution_count": 62,
   "id": "297dcbeb-8273-4f05-9f75-dda906e0cf2d",
   "metadata": {},
   "outputs": [
    {
     "data": {
      "text/plain": [
       "LogisticRegression(random_state=1)"
      ]
     },
     "execution_count": 62,
     "metadata": {},
     "output_type": "execute_result"
    }
   ],
   "source": [
    "#Simple Logistic Regression\n",
    "from sklearn.linear_model import LogisticRegression\n",
    "model = LogisticRegression(solver='lbfgs', random_state=1)\n",
    "model.fit(X_train, y_train)"
   ]
  },
  {
   "cell_type": "code",
   "execution_count": 63,
   "id": "29d24ac9-0585-4d14-a839-2c9391b89187",
   "metadata": {},
   "outputs": [
    {
     "data": {
      "text/plain": [
       "0.9575744975744975"
      ]
     },
     "execution_count": 63,
     "metadata": {},
     "output_type": "execute_result"
    }
   ],
   "source": [
    "# Calculated the balanced accuracy score\n",
    "from sklearn.metrics import balanced_accuracy_score\n",
    "y_pred = model.predict(X_test)\n",
    "balanced_accuracy_score(y_test, y_pred)"
   ]
  },
  {
   "cell_type": "code",
   "execution_count": 64,
   "id": "b6edddcc-d74a-4724-9a97-420fb5016c5f",
   "metadata": {},
   "outputs": [
    {
     "data": {
      "text/plain": [
       "array([[  575,    50],\n",
       "       [   91, 18668]])"
      ]
     },
     "execution_count": 64,
     "metadata": {},
     "output_type": "execute_result"
    }
   ],
   "source": [
    "# Display the confusion matrix\n",
    "from sklearn.metrics import confusion_matrix\n",
    "confusion_matrix(y_test, y_pred)"
   ]
  },
  {
   "cell_type": "code",
   "execution_count": 65,
   "id": "2f88a203-9eca-4b93-97bb-ecde132f9fda",
   "metadata": {},
   "outputs": [
    {
     "name": "stdout",
     "output_type": "stream",
     "text": [
      "                   pre       rec       spe        f1       geo       iba       sup\n",
      "\n",
      "  high_risk       0.86      0.92      1.00      0.89      0.96      0.91       625\n",
      "   low_risk       1.00      1.00      0.92      1.00      0.96      0.92     18759\n",
      "\n",
      "avg / total       0.99      0.99      0.92      0.99      0.96      0.92     19384\n",
      "\n"
     ]
    }
   ],
   "source": [
    "# Print the imbalanced classification report\n",
    "from imblearn.metrics import classification_report_imbalanced\n",
    "print(classification_report_imbalanced(y_test, y_pred))"
   ]
  },
  {
   "cell_type": "code",
   "execution_count": 67,
   "id": "ad520f6c-f3d4-451a-a35f-1aae0adc816c",
   "metadata": {},
   "outputs": [],
   "source": [
    "#Oversampling\n",
    "#Naive Random Oversampling"
   ]
  },
  {
   "cell_type": "code",
   "execution_count": 68,
   "id": "ab9d7da5-2987-484a-9f11-a7538c5c23fe",
   "metadata": {},
   "outputs": [
    {
     "data": {
      "text/plain": [
       "Counter({'low_risk': 56277, 'high_risk': 56277})"
      ]
     },
     "execution_count": 68,
     "metadata": {},
     "output_type": "execute_result"
    }
   ],
   "source": [
    "from imblearn.over_sampling import RandomOverSampler\n",
    "# Resample the training data with the RandomOversampler\n",
    "ros = RandomOverSampler(random_state=1)\n",
    "X_resampled, y_resampled = ros.fit_resample(X_train, y_train)\n",
    "# View the count of target classes with Counter\n",
    "Counter(y_resampled) "
   ]
  },
  {
   "cell_type": "code",
   "execution_count": 69,
   "id": "82ec3b44-9b4d-4563-9b2c-fdd605f370a9",
   "metadata": {},
   "outputs": [
    {
     "data": {
      "text/plain": [
       "Counter({'loan_size': 1,\n",
       "         'interest_rate': 1,\n",
       "         'borrower_income': 1,\n",
       "         'debt_to_income': 1,\n",
       "         'num_of_accounts': 1,\n",
       "         'derogatory_marks': 1,\n",
       "         'total_debt': 1})"
      ]
     },
     "execution_count": 69,
     "metadata": {},
     "output_type": "execute_result"
    }
   ],
   "source": [
    "Counter(X_resampled) "
   ]
  },
  {
   "cell_type": "code",
   "execution_count": 95,
   "id": "146a5d06-bb17-42ed-96f6-30275e619f6d",
   "metadata": {},
   "outputs": [
    {
     "data": {
      "text/plain": [
       "LogisticRegression(random_state=1)"
      ]
     },
     "execution_count": 95,
     "metadata": {},
     "output_type": "execute_result"
    }
   ],
   "source": [
    "# Train the Logistic Regression model using the resampled data\n",
    "from sklearn.linear_model import LogisticRegression\n",
    "\n",
    "model2 = LogisticRegression(solver='lbfgs', random_state=1)\n",
    "model2.fit(X_resampled, y_resampled)"
   ]
  },
  {
   "cell_type": "code",
   "execution_count": 96,
   "id": "02142e79-916a-42b1-aa7d-9ce08cce158e",
   "metadata": {},
   "outputs": [
    {
     "data": {
      "text/plain": [
       "array([[  623,     2],\n",
       "       [  105, 18654]])"
      ]
     },
     "execution_count": 96,
     "metadata": {},
     "output_type": "execute_result"
    }
   ],
   "source": [
    "# Display the confusion matrix\n",
    "from sklearn.metrics import confusion_matrix\n",
    "\n",
    "y_pred = model2.predict(X_test)\n",
    "confusion_matrix(y_test, y_pred)"
   ]
  },
  {
   "cell_type": "code",
   "execution_count": 72,
   "id": "3ab4eac2-2a3c-4803-b130-2e63fa1c9b36",
   "metadata": {},
   "outputs": [
    {
     "data": {
      "text/plain": [
       "0.9956279972279972"
      ]
     },
     "execution_count": 72,
     "metadata": {},
     "output_type": "execute_result"
    }
   ],
   "source": [
    "# Calculated the balanced accuracy score\n",
    "from sklearn.metrics import balanced_accuracy_score\n",
    "\n",
    "balanced_accuracy_score(y_test, y_pred)"
   ]
  },
  {
   "cell_type": "code",
   "execution_count": 84,
   "id": "da575673-05ab-49c0-9577-07b9a522b624",
   "metadata": {},
   "outputs": [
    {
     "name": "stdout",
     "output_type": "stream",
     "text": [
      "                   pre       rec       spe        f1       geo       iba       sup\n",
      "\n",
      "  high_risk       0.86      1.00      0.99      0.92      1.00      0.99       625\n",
      "   low_risk       1.00      0.99      1.00      1.00      1.00      0.99     18759\n",
      "\n",
      "avg / total       1.00      0.99      1.00      0.99      1.00      0.99     19384\n",
      "\n"
     ]
    }
   ],
   "source": [
    "# Print the imbalanced classification report\n",
    "from imblearn.metrics import classification_report_imbalanced\n",
    "\n",
    "print(classification_report_imbalanced(y_test, y_pred))"
   ]
  },
  {
   "cell_type": "code",
   "execution_count": 75,
   "id": "c668d92f-7b8d-4e40-8853-e2514604433a",
   "metadata": {},
   "outputs": [
    {
     "data": {
      "text/plain": [
       "Counter({'low_risk': 56277, 'high_risk': 56277})"
      ]
     },
     "execution_count": 75,
     "metadata": {},
     "output_type": "execute_result"
    }
   ],
   "source": [
    "#SMOTE Oversampling\n",
    "# Resample the training data with SMOTE\n",
    "from imblearn.over_sampling import SMOTE\n",
    "\n",
    "X_resampled2, y_resampled2 = SMOTE(random_state=1, sampling_strategy=1.0).fit_resample(\n",
    "    X_train, y_train\n",
    ")\n",
    "\n",
    "# View the count of target classes with Counter\n",
    "from collections import Counter\n",
    "\n",
    "Counter(y_resampled2)"
   ]
  },
  {
   "cell_type": "code",
   "execution_count": 97,
   "id": "45770cf5-8baf-43ea-927d-c177d69bfe94",
   "metadata": {},
   "outputs": [
    {
     "data": {
      "text/plain": [
       "LogisticRegression(random_state=1)"
      ]
     },
     "execution_count": 97,
     "metadata": {},
     "output_type": "execute_result"
    }
   ],
   "source": [
    "# Train the Logistic Regression model using the resampled data\n",
    "model3 = LogisticRegression(solver='lbfgs', random_state=1)\n",
    "model3.fit(X_resampled2, y_resampled2)"
   ]
  },
  {
   "cell_type": "code",
   "execution_count": 98,
   "id": "96509d0a-cf7d-47e7-a2a6-e364efef95d2",
   "metadata": {},
   "outputs": [
    {
     "data": {
      "text/plain": [
       "0.9956013433551896"
      ]
     },
     "execution_count": 98,
     "metadata": {},
     "output_type": "execute_result"
    }
   ],
   "source": [
    "# Calculated the balanced accuracy score\n",
    "y_pred2 = model3.predict(X_test)\n",
    "balanced_accuracy_score(y_test, y_pred2)"
   ]
  },
  {
   "cell_type": "code",
   "execution_count": 82,
   "id": "af2a3326-39cd-4438-96fb-10578d8bc7bf",
   "metadata": {},
   "outputs": [
    {
     "data": {
      "text/plain": [
       "array([[  623,     2],\n",
       "       [  105, 18654]])"
      ]
     },
     "execution_count": 82,
     "metadata": {},
     "output_type": "execute_result"
    }
   ],
   "source": [
    "# Display the confusion matrix\n",
    "confusion_matrix(y_test, y_pred2)"
   ]
  },
  {
   "cell_type": "code",
   "execution_count": 83,
   "id": "05db610c-6b45-4071-b9fc-c45918292d16",
   "metadata": {},
   "outputs": [
    {
     "name": "stdout",
     "output_type": "stream",
     "text": [
      "                   pre       rec       spe        f1       geo       iba       sup\n",
      "\n",
      "  high_risk       0.86      1.00      0.99      0.92      1.00      0.99       625\n",
      "   low_risk       1.00      0.99      1.00      1.00      1.00      0.99     18759\n",
      "\n",
      "avg / total       1.00      0.99      1.00      0.99      1.00      0.99     19384\n",
      "\n"
     ]
    }
   ],
   "source": [
    "# Print the imbalanced classification report\n",
    "print(classification_report_imbalanced(y_test, y_pred2))"
   ]
  },
  {
   "cell_type": "code",
   "execution_count": 85,
   "id": "10a3ba8a-3ee2-4b38-8795-47c63564db5f",
   "metadata": {},
   "outputs": [
    {
     "data": {
      "text/plain": [
       "Counter({'high_risk': 1875, 'low_risk': 1875})"
      ]
     },
     "execution_count": 85,
     "metadata": {},
     "output_type": "execute_result"
    }
   ],
   "source": [
    "#Undersampling\n",
    "# Resample the data using the ClusterCentroids resampler\n",
    "from imblearn.under_sampling import ClusterCentroids\n",
    "cc = ClusterCentroids(random_state=1)\n",
    "X_resampled3, y_resampled3 = cc.fit_resample(X_train, y_train)\n",
    "\n",
    "# View the count of target classes with Counter\n",
    "Counter(y_resampled3)"
   ]
  },
  {
   "cell_type": "code",
   "execution_count": 99,
   "id": "1ae6a1c1-d72e-4130-b59d-319d554d5a93",
   "metadata": {},
   "outputs": [
    {
     "data": {
      "text/plain": [
       "LogisticRegression(random_state=1)"
      ]
     },
     "execution_count": 99,
     "metadata": {},
     "output_type": "execute_result"
    }
   ],
   "source": [
    "# Train the Logistic Regression model using the resampled data\n",
    "model4 = LogisticRegression(solver='lbfgs', random_state=1)\n",
    "model4.fit(X_resampled3, y_resampled3)"
   ]
  },
  {
   "cell_type": "code",
   "execution_count": 100,
   "id": "b1c38d78-c592-405c-a4f4-e6e54ae24585",
   "metadata": {},
   "outputs": [
    {
     "data": {
      "text/plain": [
       "array([[  615,    10],\n",
       "       [  100, 18659]])"
      ]
     },
     "execution_count": 100,
     "metadata": {},
     "output_type": "execute_result"
    }
   ],
   "source": [
    "# Display the confusion matrix\n",
    "y_pred3 = model4.predict(X_test)\n",
    "confusion_matrix(y_test, y_pred3)"
   ]
  },
  {
   "cell_type": "code",
   "execution_count": 88,
   "id": "d7fce8bb-171d-4ece-8165-dc67392e7c07",
   "metadata": {},
   "outputs": [
    {
     "data": {
      "text/plain": [
       "0.9893346127192282"
      ]
     },
     "execution_count": 88,
     "metadata": {},
     "output_type": "execute_result"
    }
   ],
   "source": [
    "# Calculate the balanced accuracy score\n",
    "balanced_accuracy_score(y_test, y_pred3)"
   ]
  },
  {
   "cell_type": "code",
   "execution_count": 89,
   "id": "5b96f11e-aaad-446e-a635-76c100dd72ec",
   "metadata": {},
   "outputs": [
    {
     "name": "stdout",
     "output_type": "stream",
     "text": [
      "                   pre       rec       spe        f1       geo       iba       sup\n",
      "\n",
      "  high_risk       0.86      0.98      0.99      0.92      0.99      0.98       625\n",
      "   low_risk       1.00      0.99      0.98      1.00      0.99      0.98     18759\n",
      "\n",
      "avg / total       0.99      0.99      0.98      0.99      0.99      0.98     19384\n",
      "\n"
     ]
    }
   ],
   "source": [
    "# Print the imbalanced classification report\n",
    "print(classification_report_imbalanced(y_test, y_pred3))"
   ]
  },
  {
   "cell_type": "code",
   "execution_count": 94,
   "id": "33746a95-3e08-416a-94f1-a8543f7455ab",
   "metadata": {},
   "outputs": [
    {
     "data": {
      "text/plain": [
       "Counter({'high_risk': 72600, 'low_risk': 74591})"
      ]
     },
     "execution_count": 94,
     "metadata": {},
     "output_type": "execute_result"
    }
   ],
   "source": [
    "#Combination (Over and Under) Sampling\n",
    "# Resample the training data with SMOTEENN\n",
    "from imblearn.combine import SMOTEENN\n",
    "\n",
    "X= X.drop(columns='homeowner')\n",
    "smote_enn = SMOTEENN(random_state=0)\n",
    "X_resampled4, y_resampled4 = smote_enn.fit_resample(X, y)\n",
    "\n",
    "# View the count of target classes with Counter\n",
    "Counter(y_resampled4)"
   ]
  },
  {
   "cell_type": "code",
   "execution_count": 105,
   "id": "4e73da68-2e06-456d-b6fe-7ead063d6630",
   "metadata": {},
   "outputs": [
    {
     "data": {
      "text/plain": [
       "LogisticRegression(random_state=1)"
      ]
     },
     "execution_count": 105,
     "metadata": {},
     "output_type": "execute_result"
    }
   ],
   "source": [
    "# Train the Logistic Regression model using the resampled data\n",
    "model5 = LogisticRegression(solver='lbfgs', random_state=1)\n",
    "model5.fit(X_resampled4, y_resampled4)"
   ]
  },
  {
   "cell_type": "code",
   "execution_count": 106,
   "id": "6842f2ca-c603-4b0d-bfaa-4e54c10a02a5",
   "metadata": {},
   "outputs": [
    {
     "data": {
      "text/plain": [
       "array([[  623,     2],\n",
       "       [  110, 18649]])"
      ]
     },
     "execution_count": 106,
     "metadata": {},
     "output_type": "execute_result"
    }
   ],
   "source": [
    "# Display the confusion matrix\n",
    "y_pred4 = model5.predict(X_test)\n",
    "confusion_matrix(y_test, y_pred4)"
   ]
  },
  {
   "cell_type": "code",
   "execution_count": 107,
   "id": "1bdbaa09-2cb9-4179-ab1b-8a0d710ee3d5",
   "metadata": {},
   "outputs": [
    {
     "data": {
      "text/plain": [
       "0.995468073991151"
      ]
     },
     "execution_count": 107,
     "metadata": {},
     "output_type": "execute_result"
    }
   ],
   "source": [
    "# Calculate the balanced accuracy score\n",
    "balanced_accuracy_score(y_test, y_pred4)"
   ]
  },
  {
   "cell_type": "code",
   "execution_count": 104,
   "id": "1438c937-651a-4fbc-9f4d-de00fbea08e5",
   "metadata": {},
   "outputs": [
    {
     "name": "stdout",
     "output_type": "stream",
     "text": [
      "                   pre       rec       spe        f1       geo       iba       sup\n",
      "\n",
      "  high_risk       0.86      1.00      0.99      0.92      1.00      0.99       625\n",
      "   low_risk       1.00      0.99      1.00      1.00      1.00      0.99     18759\n",
      "\n",
      "avg / total       1.00      0.99      1.00      0.99      1.00      0.99     19384\n",
      "\n"
     ]
    }
   ],
   "source": [
    "# Print the imbalanced classification report\n",
    "print(classification_report_imbalanced(y_test, y_pred4))"
   ]
  },
  {
   "cell_type": "code",
   "execution_count": 108,
   "id": "9bb2eb67-6144-4049-9d5e-a439f9742df1",
   "metadata": {},
   "outputs": [
    {
     "name": "stdout",
     "output_type": "stream",
     "text": [
      "1. The Naive Over Sampling model had the best balanced accuracy score at 0.9956279972279972\n",
      "2. All models practically had the same recall score of 0.99\n",
      "3. The Naive Over Sampling model, the SMOTE Over Sampling model, and SMOTEENN model tied for the best geometric score at 1.00\n"
     ]
    }
   ],
   "source": [
    "#Final Questions\n",
    "\n",
    "#1. Which model had the best balanced accuracy score?\n",
    "print('1. The Naive Over Sampling model had the best balanced accuracy score at 0.9956279972279972')\n",
    "\n",
    "\n",
    "#2. Which model had the best recall score?\n",
    "print('2. All models practically had the same recall score of 0.99')\n",
    "\n",
    "#3. Which model had the best geometric mean score?\n",
    "print('3. The Naive Over Sampling model, the SMOTE Over Sampling model, and SMOTEENN model tied for the best geometric score at 1.00')"
   ]
  },
  {
   "cell_type": "code",
   "execution_count": null,
   "id": "a748a04b-bce9-4d1b-ae50-134a165cf193",
   "metadata": {},
   "outputs": [],
   "source": []
  }
 ],
 "metadata": {
  "kernelspec": {
   "display_name": "Python 3 (ipykernel)",
   "language": "python",
   "name": "python3"
  },
  "language_info": {
   "codemirror_mode": {
    "name": "ipython",
    "version": 3
   },
   "file_extension": ".py",
   "mimetype": "text/x-python",
   "name": "python",
   "nbconvert_exporter": "python",
   "pygments_lexer": "ipython3",
   "version": "3.7.7"
  }
 },
 "nbformat": 4,
 "nbformat_minor": 5
}
